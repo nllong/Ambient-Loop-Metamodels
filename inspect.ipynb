{
 "cells": [
  {
   "cell_type": "code",
   "execution_count": 1,
   "metadata": {},
   "outputs": [
    {
     "name": "stderr",
     "output_type": "stream",
     "text": [
      "/Users/nlong/.pyenv/versions/3.7.7-metamodel/lib/python3.7/site-packages/pandas/compat/__init__.py:117: UserWarning: Could not import the lzma module. Your installed Python is incomplete. Attempting to use lzma compression will result in a RuntimeError.\n",
      "  warnings.warn(msg)\n"
     ]
    },
    {
     "ename": "ModuleNotFoundError",
     "evalue": "No module named 'lib.metamodels'",
     "output_type": "error",
     "traceback": [
      "\u001B[0;31m---------------------------------------------------------------------------\u001B[0m",
      "\u001B[0;31mModuleNotFoundError\u001B[0m                       Traceback (most recent call last)",
      "\u001B[0;32m<ipython-input-1-077f0d9c097a>\u001B[0m in \u001B[0;36m<module>\u001B[0;34m\u001B[0m\n\u001B[1;32m     13\u001B[0m \u001B[0;32mfrom\u001B[0m \u001B[0msklearn\u001B[0m\u001B[0;34m.\u001B[0m\u001B[0mmodel_selection\u001B[0m \u001B[0;32mimport\u001B[0m \u001B[0mtrain_test_split\u001B[0m\u001B[0;34m\u001B[0m\u001B[0;34m\u001B[0m\u001B[0m\n\u001B[1;32m     14\u001B[0m \u001B[0;34m\u001B[0m\u001B[0m\n\u001B[0;32m---> 15\u001B[0;31m \u001B[0;32mfrom\u001B[0m \u001B[0mlib\u001B[0m\u001B[0;34m.\u001B[0m\u001B[0mmetamodels\u001B[0m \u001B[0;32mimport\u001B[0m \u001B[0mMetamodels\u001B[0m\u001B[0;34m\u001B[0m\u001B[0;34m\u001B[0m\u001B[0m\n\u001B[0m\u001B[1;32m     16\u001B[0m \u001B[0;32mfrom\u001B[0m \u001B[0mscipy\u001B[0m \u001B[0;32mimport\u001B[0m \u001B[0mstats\u001B[0m\u001B[0;34m,\u001B[0m \u001B[0mintegrate\u001B[0m\u001B[0;34m\u001B[0m\u001B[0;34m\u001B[0m\u001B[0m\n\u001B[1;32m     17\u001B[0m \u001B[0;32mimport\u001B[0m \u001B[0mseaborn\u001B[0m \u001B[0;32mas\u001B[0m \u001B[0msns\u001B[0m\u001B[0;34m\u001B[0m\u001B[0;34m\u001B[0m\u001B[0m\n",
      "\u001B[0;31mModuleNotFoundError\u001B[0m: No module named 'lib.metamodels'"
     ]
    }
   ],
   "source": [
    "%matplotlib inline\n",
    "import os\n",
    "\n",
    "import matplotlib as mpl\n",
    "import matplotlib.pyplot as plt\n",
    "import matplotlib.dates as mdates\n",
    "\n",
    "import numpy as np\n",
    "import pandas as pd\n",
    "from pandas.plotting import lag_plot\n",
    "from scipy import stats\n",
    "from sklearn.ensemble import RandomForestRegressor\n",
    "from sklearn.model_selection import train_test_split\n",
    "\n",
    "from lib.metamodels import Metamodels\n",
    "from scipy import stats, integrate\n",
    "import seaborn as sns\n",
    "\n",
    "sns.set(color_codes=True)\n",
    "plt.rcParams['figure.figsize'] = [15, 10]"
   ]
  },
  {
   "cell_type": "code",
   "execution_count": null,
   "metadata": {},
   "outputs": [],
   "source": [
    "analysis_id = '66fb9766-26e7-4bed-bdf9-0fbfbc8d6c7e'\n",
    "data_file = 'output/%s/simulation_results.csv' % analysis_id\n",
    "if not os.path.exists(data_file):\n",
    "    raise Exception(\"path does not exist\")\n",
    "\n",
    "print(\"Loaded data file: %s\" % data_file)\n",
    "\n",
    " # data_file_to_csv()\n",
    "dataset = pd.read_csv(data_file)\n",
    "# this column is a redundant column\n",
    "dataset = dataset.drop('DistrictCoolingOutletTemperature', 1)\n",
    "# update some of the column names so they make sense to this model\n",
    "dataset = dataset.rename(columns={\n",
    "    'DistrictHeatingOutletTemperature': 'ETSInletTemperature',\n",
    "    'DistrictHeatingInletTemperature': 'ETSHeatingOutletTemperature',\n",
    "    'DistrictCoolingInletTemperature': 'ETSCoolingOutletTemperature',\n",
    "})\n",
    "# This command takes awhile to run... hang tight.\n",
    "dataset['DateTime'] = pd.to_datetime(dataset['DateTime'])"
   ]
  },
  {
   "cell_type": "code",
   "execution_count": null,
   "metadata": {},
   "outputs": [],
   "source": [
    "dataset.columns.values"
   ]
  },
  {
   "cell_type": "code",
   "execution_count": null,
   "metadata": {},
   "outputs": [],
   "source": [
    "# load in the metamodels\n",
    "rom = Metamodels('./metamodels.json')\n",
    "rom.set_analysis(analysis_id)\n",
    "# Load the exising models - If passed with list, then it will only load the models in the list.\n",
    "rom.load_models()\n"
   ]
  },
  {
   "cell_type": "code",
   "execution_count": null,
   "metadata": {},
   "outputs": [],
   "source": [
    "dataset._id.describe()"
   ]
  },
  {
   "cell_type": "code",
   "execution_count": null,
   "metadata": {},
   "outputs": [],
   "source": [
    "temperature_vars = [\n",
    "       'ETSInletTemperature',\n",
    "       'SiteOutdoorAirDrybulbTemperature',\n",
    "       'ETSHeatingOutletTemperature',\n",
    "       'ETSCoolingOutletTemperature',\n",
    "       'ambient_loop_temperature_setpoint.setpoint_temperature',\n",
    "       'ambient_loop_temperature_setpoint.design_delta',\n",
    "     ]\n",
    "temperature_series = dataset[temperature_vars]\n",
    "temperature_series.describe()\n",
    "\n"
   ]
  },
  {
   "cell_type": "code",
   "execution_count": null,
   "metadata": {},
   "outputs": [],
   "source": [
    "temperature_series.plot.box()\n",
    "plt.ylabel(\"Temperature (deg C)\")\n",
    "plt.xticks(rotation=10)"
   ]
  },
  {
   "cell_type": "code",
   "execution_count": null,
   "metadata": {},
   "outputs": [],
   "source": [
    "mass_flow_series = dataset[['DistrictCoolingMassFlowRate']]\n",
    "print mass_flow_series[mass_flow_series.DistrictCoolingMassFlowRate > 0].describe()\n",
    "mass_flow_series[mass_flow_series.DistrictCoolingMassFlowRate > 0].plot.box()\n",
    "plt.ylabel(\"Cooling Mass Flow Rate (kg/s)\")\n"
   ]
  },
  {
   "cell_type": "code",
   "execution_count": null,
   "metadata": {},
   "outputs": [],
   "source": [
    "mass_flow_series = dataset[['DistrictHeatingMassFlowRate']]\n",
    "print mass_flow_series[mass_flow_series.DistrictHeatingMassFlowRate > 0].describe()\n",
    "mass_flow_series[mass_flow_series.DistrictHeatingMassFlowRate > 0].plot.box()\n",
    "plt.ylabel(\"Heating Mass Flow Rate (kg/s)\")"
   ]
  },
  {
   "cell_type": "code",
   "execution_count": null,
   "metadata": {},
   "outputs": [],
   "source": [
    "# get the time series data for 3/15\n",
    "dataset.set_index('DateTime')\n",
    "dataset.DateTime.describe()\n",
    "# dataset.DateTime[15]"
   ]
  },
  {
   "cell_type": "code",
   "execution_count": null,
   "metadata": {},
   "outputs": [],
   "source": [
    "ds = dataset[dataset[\"DateTime\"].between(\"2009-03-01 01:00\", \"2009-03-10 00:00\")]\n",
    "\n",
    "# constrain to a specific building\n",
    "ds_single_building = ds[ds._id == '606171e5-3517-4ab1-85fe-276c34014eae']\n",
    "\n",
    "# Add in the ROM results into the single building\n",
    "# ds_single_building['RF_HeatingElectricity'] = rom.yhat('HeatingElectricity', ds_single_building)\n",
    "ds_single_building['RF_ETSHeatingOutletTemperature'] = rom.yhat('ETSHeatingOutletTemperature', ds_single_building)\n",
    "ds_single_building.iloc[0]"
   ]
  },
  {
   "cell_type": "code",
   "execution_count": null,
   "metadata": {},
   "outputs": [],
   "source": [
    "sns.set(style=\"darkgrid\")\n",
    "temps_single_buildings = ds_single_building[\n",
    "    temperature_vars + ['DateTime', 'RF_ETSHeatingOutletTemperature', 'DistrictHeatingMassFlowRate', 'DistrictCoolingMassFlowRate']\n",
    "]\n",
    "temps_single_buildings.describe()"
   ]
  },
  {
   "cell_type": "code",
   "execution_count": null,
   "metadata": {},
   "outputs": [],
   "source": [
    "# plot the RF ETS Outlet  with the ETSOutput\n",
    "newplt = sns.lmplot(x=\"ETSHeatingOutletTemperature\", y=\"RF_ETSHeatingOutletTemperature\", data=temps_single_buildings,\n",
    "           ci=None, palette=\"muted\", height=8, scatter_kws={\"s\": 50, \"alpha\": 1})\n",
    "newplt = newplt.axes.flatten()\n",
    "newplt[0].set_title(\"RF vs EnergyPlus Outlet Temperature\")"
   ]
  },
  {
   "cell_type": "code",
   "execution_count": null,
   "metadata": {},
   "outputs": [],
   "source": [
    "#selected_columns = ['DateTime', 'ETSHeatingOutletTemperature','RF_ETSHeatingOutletTemperature', 'DistrictHeatingMassFlowRate', 'DistrictCoolingMassFlowRate']\n",
    "selected_columns = ['DateTime', 'ETSHeatingOutletTemperature','RF_ETSHeatingOutletTemperature']\n",
    "melted_df = pd.melt(temps_single_buildings[selected_columns], id_vars='DateTime', var_name='Variable', value_name='Value')\n",
    "melted_df['Dummy'] = 0\n",
    "\n",
    "def date_formatter(x, pos):\n",
    "    return pd.to_datetime(x)\n",
    "\n",
    "fig, ax = plt.subplots()\n",
    "\n",
    "newplt = sns.tsplot(melted_df, time='DateTime', unit='Dummy', condition='Variable', value='Value', ax=ax)\n",
    "newplt.set_title(\"RF vs EnergyPlus Heating Outlet Temperature\")\n",
    "ax.xaxis.set_major_formatter(mpl.ticker.FuncFormatter(date_formatter))\n",
    "\n",
    "# put the labels at 45deg since they tend to be too long\n",
    "fig.autofmt_xdate()\n",
    "plt.show()"
   ]
  },
  {
   "cell_type": "code",
   "execution_count": null,
   "metadata": {},
   "outputs": [],
   "source": [
    "ds_single_building.columns.values\n",
    "\n"
   ]
  },
  {
   "cell_type": "code",
   "execution_count": null,
   "metadata": {},
   "outputs": [],
   "source": [
    "d = pd.DataFrame(data=ds_single_building,\n",
    "                 columns=[\n",
    "                     'SiteOutdoorAirDrybulbTemperature',\n",
    "                     'ETSInletTemperature',\n",
    "                     'ETSHeatingOutletTemperature',\n",
    "                     'DistrictHeatingHotWaterEnergy',\n",
    "                     'DistrictHeatingMassFlowRate',\n",
    "                     'DistrictCoolingMassFlowRate',\n",
    "                     'HeatingElectricity',\n",
    "                 ])\n",
    "\n",
    "# Compute the correlation matrix\n",
    "corr = d.corr()\n",
    "# Generate a mask for the upper triangle\n",
    "mask = np.zeros_like(corr, dtype=np.bool)\n",
    "mask[np.triu_indices_from(mask)] = True\n",
    "\n",
    "# Set up the matplotlib figure\n",
    "f, ax = plt.subplots(figsize=(11, 9))\n",
    "\n",
    "# Generate a custom diverging colormap\n",
    "cmap = sns.diverging_palette(220, 10, as_cmap=True)\n",
    "\n",
    "# Draw the heatmap with the mask and correct aspect ratio\n",
    "sns.heatmap(corr, mask=mask, cmap=cmap, center=0,\n",
    "            square=True, linewidths=.5, cbar_kws={\"shrink\": .5})"
   ]
  },
  {
   "cell_type": "code",
   "execution_count": null,
   "metadata": {},
   "outputs": [],
   "source": [
    "# TODO: move this over to the python source code\n",
    "filename = 'output/66fb9766-26e7-4bed-bdf9-0fbfbc8d6c7e/lookup_tables/heating_ETSHeatingOutletTemperature_mass_flow_0.05.csv'\n",
    "df_heatmap = pd.read_csv(filename, header=0)\n",
    "# Remove the datetime column before converting the column headers to rounded floats\n",
    "df_heatmap = df_heatmap.drop(columns=['datetime'])\n",
    "df_heatmap.rename(columns=lambda x: round(float(x), 1), inplace=True)\n",
    "# print df_heatmap\n",
    "\n",
    "# try creating heatmap\n",
    "import matplotlib.pyplot as plt\n",
    "import seaborn as sns\n",
    "\n",
    "# Draw a heatmap with the numeric values in each cell\n",
    "f, ax = plt.subplots(figsize=(5, 12))\n",
    "\n",
    "sns.heatmap(df_heatmap)\n",
    "ax.set_title('ETS Outlet Temperature - mf 0.05 kg/s')\n",
    "ax.set_xlabel('ETS Inlet Temperature')\n",
    "ax.set_ylabel('Hour of Year')\n"
   ]
  },
  {
   "cell_type": "code",
   "execution_count": null,
   "metadata": {},
   "outputs": [],
   "source": []
  },
  {
   "cell_type": "code",
   "execution_count": null,
   "metadata": {},
   "outputs": [],
   "source": []
  }
 ],
 "metadata": {
  "kernelspec": {
   "name": "python3",
   "language": "python",
   "display_name": "Python 3"
  },
  "language_info": {
   "codemirror_mode": {
    "name": "ipython",
    "version": 2
   },
   "file_extension": ".py",
   "mimetype": "text/x-python",
   "name": "python",
   "nbconvert_exporter": "python",
   "pygments_lexer": "ipython2",
   "version": "2.7.14"
  }
 },
 "nbformat": 4,
 "nbformat_minor": 1
}